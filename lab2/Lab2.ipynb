{
 "cells": [
  {
   "cell_type": "markdown",
   "id": "18dab6cd-ff63-4ea8-b0d6-ad1e35f4bd3c",
   "metadata": {},
   "source": [
    "# Lab 2 \n",
    "\n",
    "- Create a program that calculate Pi in serial and distributed way using mpi\n",
    "- \n"
   ]
  },
  {
   "cell_type": "markdown",
   "id": "eef0e3b7-3b9e-428d-a2de-453996c7b8a9",
   "metadata": {},
   "source": [
    "# Distributed Pi Calculation \n",
    "\n",
    "Using montecarlo methon, try to calculate PI using MPI. \n"
   ]
  }
 ],
 "metadata": {
  "kernelspec": {
   "display_name": "Python 3 (ipykernel)",
   "language": "python",
   "name": "python3"
  },
  "language_info": {
   "codemirror_mode": {
    "name": "ipython",
    "version": 3
   },
   "file_extension": ".py",
   "mimetype": "text/x-python",
   "name": "python",
   "nbconvert_exporter": "python",
   "pygments_lexer": "ipython3",
   "version": "3.10.10"
  }
 },
 "nbformat": 4,
 "nbformat_minor": 5
}
