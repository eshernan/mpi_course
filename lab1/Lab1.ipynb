{
 "cells": [
  {
   "cell_type": "markdown",
   "id": "18dab6cd-ff63-4ea8-b0d6-ad1e35f4bd3c",
   "metadata": {},
   "source": [
    "# Lab 1 \n",
    "\n",
    "- Write a simple MPI program that shows the number of ranks, the size of message. \n",
    "- Run it with different parameters, on runtime.\n",
    "- What happen when use mpirun -N and srun ?\n"
   ]
  },
  {
   "cell_type": "markdown",
   "id": "eef0e3b7-3b9e-428d-a2de-453996c7b8a9",
   "metadata": {},
   "source": [
    "# Distributed Sum \n",
    "\n",
    "Using an array of elements  for example \n",
    "**Input : {1, 2, 3, 4, 5, 6, 7, 8, 9, 10}**\n",
    "\n",
    "Compute the result using almost two nodes that show the result like \n",
    "**Output : Sum of array is 55**\n",
    "\n",
    "Consider :\n",
    "\n",
    "- The number of ranks,\n",
    "- The problem size\n",
    "- Ranks number.\n",
    "- Each rank need consider only one part of problem\n",
    "- the Rank 0  is the master\n"
   ]
  }
 ],
 "metadata": {
  "kernelspec": {
   "display_name": "Python 3 (ipykernel)",
   "language": "python",
   "name": "python3"
  },
  "language_info": {
   "codemirror_mode": {
    "name": "ipython",
    "version": 3
   },
   "file_extension": ".py",
   "mimetype": "text/x-python",
   "name": "python",
   "nbconvert_exporter": "python",
   "pygments_lexer": "ipython3",
   "version": "3.10.10"
  }
 },
 "nbformat": 4,
 "nbformat_minor": 5
}
