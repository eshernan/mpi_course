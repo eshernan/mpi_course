{
 "cells": [
  {
   "cell_type": "markdown",
   "id": "18dab6cd-ff63-4ea8-b0d6-ad1e35f4bd3c",
   "metadata": {},
   "source": [
    "# Lab 1 \n",
    "\n",
    "- Write a simple MPI program that shows the number of ranks, the size of message. \n",
    "- Run it with different parameters, on runtime.\n",
    "- What happen when use mpirun -N and srun ?\n"
   ]
  },
  {
   "cell_type": "code",
   "execution_count": null,
   "id": "5a3a9f1b-e3c9-4a3c-a5d7-1b1c347f9d26",
   "metadata": {},
   "outputs": [],
   "source": []
  }
 ],
 "metadata": {
  "kernelspec": {
   "display_name": "Python 3 (ipykernel)",
   "language": "python",
   "name": "python3"
  },
  "language_info": {
   "codemirror_mode": {
    "name": "ipython",
    "version": 3
   },
   "file_extension": ".py",
   "mimetype": "text/x-python",
   "name": "python",
   "nbconvert_exporter": "python",
   "pygments_lexer": "ipython3",
   "version": "3.10.10"
  }
 },
 "nbformat": 4,
 "nbformat_minor": 5
}
